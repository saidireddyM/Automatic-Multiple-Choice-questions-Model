{
 "cells": [
  {
   "cell_type": "code",
   "execution_count": 1,
   "metadata": {},
   "outputs": [
    {
     "name": "stdout",
     "output_type": "stream",
     "text": [
      "Requirement already satisfied: gensim in c:\\users\\saisa\\anaconda3\\envs\\torch\\lib\\site-packages (3.8.3)\n",
      "Requirement already satisfied: numpy>=1.11.3 in c:\\users\\saisa\\anaconda3\\envs\\torch\\lib\\site-packages (from gensim) (1.19.2)\n",
      "Requirement already satisfied: scipy>=0.18.1 in c:\\users\\saisa\\anaconda3\\envs\\torch\\lib\\site-packages (from gensim) (1.5.2)\n",
      "Requirement already satisfied: Cython==0.29.14 in c:\\users\\saisa\\anaconda3\\envs\\torch\\lib\\site-packages (from gensim) (0.29.14)\n",
      "Requirement already satisfied: smart-open>=1.8.1 in c:\\users\\saisa\\anaconda3\\envs\\torch\\lib\\site-packages (from gensim) (2.2.0)\n",
      "Requirement already satisfied: six>=1.5.0 in c:\\users\\saisa\\anaconda3\\envs\\torch\\lib\\site-packages (from gensim) (1.15.0)\n",
      "Requirement already satisfied: requests in c:\\users\\saisa\\anaconda3\\envs\\torch\\lib\\site-packages (from smart-open>=1.8.1->gensim) (2.24.0)\n",
      "Requirement already satisfied: chardet<4,>=3.0.2 in c:\\users\\saisa\\anaconda3\\envs\\torch\\lib\\site-packages (from requests->smart-open>=1.8.1->gensim) (3.0.4)\n",
      "Requirement already satisfied: certifi>=2017.4.17 in c:\\users\\saisa\\anaconda3\\envs\\torch\\lib\\site-packages (from requests->smart-open>=1.8.1->gensim) (2020.6.20)\n",
      "Requirement already satisfied: idna<3,>=2.5 in c:\\users\\saisa\\anaconda3\\envs\\torch\\lib\\site-packages (from requests->smart-open>=1.8.1->gensim) (2.10)\n",
      "Requirement already satisfied: urllib3!=1.25.0,!=1.25.1,<1.26,>=1.21.1 in c:\\users\\saisa\\anaconda3\\envs\\torch\\lib\\site-packages (from requests->smart-open>=1.8.1->gensim) (1.25.10)\n"
     ]
    }
   ],
   "source": [
    "!pip install gensim"
   ]
  },
  {
   "cell_type": "code",
   "execution_count": 2,
   "metadata": {},
   "outputs": [
    {
     "name": "stdout",
     "output_type": "stream",
     "text": [
      "Requirement already up-to-date: nltk in c:\\users\\saisa\\anaconda3\\envs\\torch\\lib\\site-packages (3.5)\n",
      "Requirement already satisfied, skipping upgrade: click in c:\\users\\saisa\\anaconda3\\envs\\torch\\lib\\site-packages (from nltk) (7.1.2)\n",
      "Requirement already satisfied, skipping upgrade: tqdm in c:\\users\\saisa\\anaconda3\\envs\\torch\\lib\\site-packages (from nltk) (4.50.0)\n",
      "Requirement already satisfied, skipping upgrade: regex in c:\\users\\saisa\\anaconda3\\envs\\torch\\lib\\site-packages (from nltk) (2020.9.27)\n",
      "Requirement already satisfied, skipping upgrade: joblib in c:\\users\\saisa\\anaconda3\\envs\\torch\\lib\\site-packages (from nltk) (0.16.0)\n"
     ]
    }
   ],
   "source": [
    "!pip install -U nltk"
   ]
  },
  {
   "cell_type": "code",
   "execution_count": 3,
   "metadata": {},
   "outputs": [
    {
     "name": "stdout",
     "output_type": "stream",
     "text": [
      "Requirement already up-to-date: pywsd in c:\\users\\saisa\\anaconda3\\envs\\torch\\lib\\site-packages (1.2.4)\n",
      "Requirement already satisfied, skipping upgrade: wn in c:\\users\\saisa\\anaconda3\\envs\\torch\\lib\\site-packages (from pywsd) (0.0.23)\n",
      "Requirement already satisfied, skipping upgrade: nltk in c:\\users\\saisa\\anaconda3\\envs\\torch\\lib\\site-packages (from pywsd) (3.5)\n",
      "Requirement already satisfied, skipping upgrade: pandas in c:\\users\\saisa\\anaconda3\\envs\\torch\\lib\\site-packages (from pywsd) (1.1.2)\n",
      "Requirement already satisfied, skipping upgrade: numpy in c:\\users\\saisa\\anaconda3\\envs\\torch\\lib\\site-packages (from pywsd) (1.19.2)\n",
      "Requirement already satisfied, skipping upgrade: six in c:\\users\\saisa\\anaconda3\\envs\\torch\\lib\\site-packages (from pywsd) (1.15.0)\n",
      "Requirement already satisfied, skipping upgrade: tqdm in c:\\users\\saisa\\anaconda3\\envs\\torch\\lib\\site-packages (from nltk->pywsd) (4.50.0)\n",
      "Requirement already satisfied, skipping upgrade: regex in c:\\users\\saisa\\anaconda3\\envs\\torch\\lib\\site-packages (from nltk->pywsd) (2020.9.27)\n",
      "Requirement already satisfied, skipping upgrade: joblib in c:\\users\\saisa\\anaconda3\\envs\\torch\\lib\\site-packages (from nltk->pywsd) (0.16.0)\n",
      "Requirement already satisfied, skipping upgrade: click in c:\\users\\saisa\\anaconda3\\envs\\torch\\lib\\site-packages (from nltk->pywsd) (7.1.2)\n",
      "Requirement already satisfied, skipping upgrade: pytz>=2017.2 in c:\\users\\saisa\\anaconda3\\envs\\torch\\lib\\site-packages (from pandas->pywsd) (2020.1)\n",
      "Requirement already satisfied, skipping upgrade: python-dateutil>=2.7.3 in c:\\users\\saisa\\anaconda3\\envs\\torch\\lib\\site-packages (from pandas->pywsd) (2.8.1)\n"
     ]
    }
   ],
   "source": [
    "!pip install -U pywsd"
   ]
  },
  {
   "cell_type": "code",
   "execution_count": 4,
   "metadata": {},
   "outputs": [
    {
     "name": "stdout",
     "output_type": "stream",
     "text": [
      "Collecting spacy==2.1.3"
     ]
    },
    {
     "name": "stderr",
     "output_type": "stream",
     "text": [
      "ERROR: After October 2020 you may experience errors when installing or updating packages. This is because pip will change the way that it resolves dependency conflicts.\n",
      "\n",
      "We recommend you use --use-feature=2020-resolver to test your packages with the new resolver before it becomes the default.\n",
      "\n",
      "en-core-web-sm 2.3.1 requires spacy<2.4.0,>=2.3.0, but you'll have spacy 2.1.3 which is incompatible.\n"
     ]
    },
    {
     "name": "stdout",
     "output_type": "stream",
     "text": [
      "\n",
      "  Using cached spacy-2.1.3-cp37-cp37m-win_amd64.whl (26.9 MB)\n",
      "Collecting cymem<2.1.0,>=2.0.2\n",
      "  Using cached cymem-2.0.3-cp37-cp37m-win_amd64.whl (32 kB)\n",
      "Collecting blis<0.3.0,>=0.2.2\n",
      "  Using cached blis-0.2.4-cp37-cp37m-win_amd64.whl (3.1 MB)\n",
      "Collecting murmurhash<1.1.0,>=0.28.0\n",
      "  Using cached murmurhash-1.0.2-cp37-cp37m-win_amd64.whl (20 kB)\n",
      "Collecting numpy>=1.15.0\n",
      "  Using cached numpy-1.19.2-cp37-cp37m-win_amd64.whl (12.9 MB)\n",
      "Collecting plac<1.0.0,>=0.9.6\n",
      "  Using cached plac-0.9.6-py2.py3-none-any.whl (20 kB)\n",
      "Collecting thinc<7.1.0,>=7.0.2\n",
      "  Using cached thinc-7.0.8-cp37-cp37m-win_amd64.whl (1.9 MB)\n",
      "Collecting jsonschema<3.0.0,>=2.6.0\n",
      "  Using cached jsonschema-2.6.0-py2.py3-none-any.whl (39 kB)\n",
      "Collecting preshed<2.1.0,>=2.0.1\n",
      "  Using cached preshed-2.0.1-cp37-cp37m-win_amd64.whl (73 kB)\n",
      "Collecting wasabi<1.1.0,>=0.2.0\n",
      "  Using cached wasabi-0.8.0-py3-none-any.whl (23 kB)\n",
      "Collecting srsly<1.1.0,>=0.0.5\n",
      "  Using cached srsly-1.0.2-cp37-cp37m-win_amd64.whl (179 kB)\n",
      "Collecting requests<3.0.0,>=2.13.0\n",
      "  Using cached requests-2.24.0-py2.py3-none-any.whl (61 kB)\n",
      "Collecting tqdm<5.0.0,>=4.10.0\n",
      "  Using cached tqdm-4.50.0-py2.py3-none-any.whl (70 kB)\n",
      "Collecting idna<3,>=2.5\n",
      "  Using cached idna-2.10-py2.py3-none-any.whl (58 kB)\n",
      "Collecting certifi>=2017.4.17\n",
      "  Using cached certifi-2020.6.20-py2.py3-none-any.whl (156 kB)\n",
      "Collecting chardet<4,>=3.0.2\n",
      "  Using cached chardet-3.0.4-py2.py3-none-any.whl (133 kB)\n",
      "Collecting urllib3!=1.25.0,!=1.25.1,<1.26,>=1.21.1\n",
      "  Using cached urllib3-1.25.10-py2.py3-none-any.whl (127 kB)\n",
      "Installing collected packages: cymem, numpy, blis, murmurhash, plac, wasabi, srsly, tqdm, preshed, thinc, jsonschema, idna, certifi, chardet, urllib3, requests, spacy\n",
      "  Attempting uninstall: cymem\n",
      "    Found existing installation: cymem 2.0.3\n",
      "    Uninstalling cymem-2.0.3:\n",
      "      Successfully uninstalled cymem-2.0.3\n",
      "  Attempting uninstall: numpy\n",
      "    Found existing installation: numpy 1.19.2\n",
      "    Uninstalling numpy-1.19.2:\n",
      "      Successfully uninstalled numpy-1.19.2\n",
      "  Attempting uninstall: blis\n",
      "    Found existing installation: blis 0.4.1\n",
      "    Uninstalling blis-0.4.1:\n",
      "      Successfully uninstalled blis-0.4.1\n",
      "  Attempting uninstall: murmurhash\n",
      "    Found existing installation: murmurhash 1.0.2\n",
      "    Uninstalling murmurhash-1.0.2:\n",
      "      Successfully uninstalled murmurhash-1.0.2\n",
      "  Attempting uninstall: plac\n",
      "    Found existing installation: plac 1.1.3\n",
      "    Uninstalling plac-1.1.3:\n",
      "      Successfully uninstalled plac-1.1.3\n",
      "  Attempting uninstall: wasabi\n",
      "    Found existing installation: wasabi 0.8.0\n",
      "    Uninstalling wasabi-0.8.0:\n",
      "      Successfully uninstalled wasabi-0.8.0\n",
      "  Attempting uninstall: srsly\n",
      "    Found existing installation: srsly 1.0.2\n",
      "    Uninstalling srsly-1.0.2:\n",
      "      Successfully uninstalled srsly-1.0.2\n",
      "  Attempting uninstall: tqdm\n",
      "    Found existing installation: tqdm 4.50.0\n",
      "    Uninstalling tqdm-4.50.0:\n",
      "      Successfully uninstalled tqdm-4.50.0\n",
      "  Attempting uninstall: preshed\n",
      "    Found existing installation: preshed 3.0.2\n",
      "    Uninstalling preshed-3.0.2:\n",
      "      Successfully uninstalled preshed-3.0.2\n",
      "  Attempting uninstall: thinc\n",
      "    Found existing installation: thinc 7.4.1\n",
      "    Uninstalling thinc-7.4.1:\n",
      "      Successfully uninstalled thinc-7.4.1\n",
      "  Attempting uninstall: jsonschema\n",
      "    Found existing installation: jsonschema 2.6.0\n",
      "    Uninstalling jsonschema-2.6.0:\n",
      "      Successfully uninstalled jsonschema-2.6.0\n",
      "  Attempting uninstall: idna\n",
      "    Found existing installation: idna 2.10\n",
      "    Uninstalling idna-2.10:\n",
      "      Successfully uninstalled idna-2.10\n",
      "  Attempting uninstall: certifi\n",
      "    Found existing installation: certifi 2020.6.20\n",
      "    Uninstalling certifi-2020.6.20:\n",
      "      Successfully uninstalled certifi-2020.6.20\n",
      "  Attempting uninstall: chardet\n",
      "    Found existing installation: chardet 3.0.4\n",
      "    Uninstalling chardet-3.0.4:\n",
      "      Successfully uninstalled chardet-3.0.4\n",
      "  Attempting uninstall: urllib3\n",
      "    Found existing installation: urllib3 1.25.10\n",
      "    Uninstalling urllib3-1.25.10:\n",
      "      Successfully uninstalled urllib3-1.25.10\n",
      "  Attempting uninstall: requests\n",
      "    Found existing installation: requests 2.24.0\n",
      "    Uninstalling requests-2.24.0:\n",
      "      Successfully uninstalled requests-2.24.0\n",
      "  Attempting uninstall: spacy\n",
      "    Found existing installation: spacy 2.3.2\n",
      "    Uninstalling spacy-2.3.2:\n",
      "      Successfully uninstalled spacy-2.3.2\n",
      "Successfully installed blis-0.2.4 certifi-2020.6.20 chardet-3.0.4 cymem-2.0.3 idna-2.10 jsonschema-2.6.0 murmurhash-1.0.2 numpy-1.19.2 plac-0.9.6 preshed-2.0.1 requests-2.24.0 spacy-2.1.3 srsly-1.0.2 thinc-7.0.8 tqdm-4.50.0 urllib3-1.25.10 wasabi-0.8.0\n"
     ]
    }
   ],
   "source": [
    "!pip install spacy==2.1.3 --upgrade --force-reinstall"
   ]
  },
  {
   "cell_type": "code",
   "execution_count": null,
   "metadata": {},
   "outputs": [],
   "source": []
  },
  {
   "cell_type": "code",
   "execution_count": 5,
   "metadata": {},
   "outputs": [
    {
     "name": "stdout",
     "output_type": "stream",
     "text": [
      "Collecting git+https://github.com/boudinfl/pke\n",
      "  Cloning https://github.com/boudinfl/pke to c:\\users\\saisa\\appdata\\local\\temp\\pip-req-build-3fzige25\n",
      "Requirement already satisfied (use --upgrade to upgrade): pke==1.8.1 from git+https://github.com/boudinfl/pke in c:\\users\\saisa\\anaconda3\\envs\\torch\\lib\\site-packages\n",
      "Requirement already satisfied: nltk in c:\\users\\saisa\\anaconda3\\envs\\torch\\lib\\site-packages (from pke==1.8.1) (3.5)\n",
      "Requirement already satisfied: networkx in c:\\users\\saisa\\anaconda3\\envs\\torch\\lib\\site-packages (from pke==1.8.1) (2.5)\n",
      "Requirement already satisfied: numpy in c:\\users\\saisa\\anaconda3\\envs\\torch\\lib\\site-packages (from pke==1.8.1) (1.19.2)\n",
      "Requirement already satisfied: scipy in c:\\users\\saisa\\anaconda3\\envs\\torch\\lib\\site-packages (from pke==1.8.1) (1.5.2)\n",
      "Requirement already satisfied: spacy in c:\\users\\saisa\\anaconda3\\envs\\torch\\lib\\site-packages (from pke==1.8.1) (2.1.3)\n",
      "Requirement already satisfied: six in c:\\users\\saisa\\anaconda3\\envs\\torch\\lib\\site-packages (from pke==1.8.1) (1.15.0)\n",
      "Requirement already satisfied: sklearn in c:\\users\\saisa\\anaconda3\\envs\\torch\\lib\\site-packages (from pke==1.8.1) (0.0)\n",
      "Requirement already satisfied: unidecode in c:\\users\\saisa\\anaconda3\\envs\\torch\\lib\\site-packages (from pke==1.8.1) (1.1.1)\n",
      "Requirement already satisfied: future in c:\\users\\saisa\\anaconda3\\envs\\torch\\lib\\site-packages (from pke==1.8.1) (0.18.2)\n",
      "Requirement already satisfied: joblib in c:\\users\\saisa\\anaconda3\\envs\\torch\\lib\\site-packages (from pke==1.8.1) (0.16.0)\n",
      "Requirement already satisfied: langcodes in c:\\users\\saisa\\anaconda3\\envs\\torch\\lib\\site-packages (from pke==1.8.1) (2.1.0)\n",
      "Requirement already satisfied: click in c:\\users\\saisa\\anaconda3\\envs\\torch\\lib\\site-packages (from nltk->pke==1.8.1) (7.1.2)\n",
      "Requirement already satisfied: tqdm in c:\\users\\saisa\\anaconda3\\envs\\torch\\lib\\site-packages (from nltk->pke==1.8.1) (4.50.0)\n",
      "Requirement already satisfied: regex in c:\\users\\saisa\\anaconda3\\envs\\torch\\lib\\site-packages (from nltk->pke==1.8.1) (2020.9.27)\n",
      "Requirement already satisfied: decorator>=4.3.0 in c:\\users\\saisa\\anaconda3\\envs\\torch\\lib\\site-packages (from networkx->pke==1.8.1) (4.4.2)\n",
      "Requirement already satisfied: srsly<1.1.0,>=0.0.5 in c:\\users\\saisa\\anaconda3\\envs\\torch\\lib\\site-packages (from spacy->pke==1.8.1) (1.0.2)\n",
      "Requirement already satisfied: blis<0.3.0,>=0.2.2 in c:\\users\\saisa\\anaconda3\\envs\\torch\\lib\\site-packages (from spacy->pke==1.8.1) (0.2.4)\n",
      "Requirement already satisfied: jsonschema<3.0.0,>=2.6.0 in c:\\users\\saisa\\anaconda3\\envs\\torch\\lib\\site-packages (from spacy->pke==1.8.1) (2.6.0)\n",
      "Requirement already satisfied: cymem<2.1.0,>=2.0.2 in c:\\users\\saisa\\anaconda3\\envs\\torch\\lib\\site-packages (from spacy->pke==1.8.1) (2.0.3)\n",
      "Requirement already satisfied: murmurhash<1.1.0,>=0.28.0 in c:\\users\\saisa\\anaconda3\\envs\\torch\\lib\\site-packages (from spacy->pke==1.8.1) (1.0.2)\n",
      "Requirement already satisfied: preshed<2.1.0,>=2.0.1 in c:\\users\\saisa\\anaconda3\\envs\\torch\\lib\\site-packages (from spacy->pke==1.8.1) (2.0.1)\n",
      "Requirement already satisfied: wasabi<1.1.0,>=0.2.0 in c:\\users\\saisa\\anaconda3\\envs\\torch\\lib\\site-packages (from spacy->pke==1.8.1) (0.8.0)\n",
      "Requirement already satisfied: thinc<7.1.0,>=7.0.2 in c:\\users\\saisa\\anaconda3\\envs\\torch\\lib\\site-packages (from spacy->pke==1.8.1) (7.0.8)\n",
      "Requirement already satisfied: requests<3.0.0,>=2.13.0 in c:\\users\\saisa\\anaconda3\\envs\\torch\\lib\\site-packages (from spacy->pke==1.8.1) (2.24.0)\n",
      "Requirement already satisfied: plac<1.0.0,>=0.9.6 in c:\\users\\saisa\\anaconda3\\envs\\torch\\lib\\site-packages (from spacy->pke==1.8.1) (0.9.6)\n",
      "Requirement already satisfied: scikit-learn in c:\\users\\saisa\\anaconda3\\envs\\torch\\lib\\site-packages (from sklearn->pke==1.8.1) (0.23.2)\n",
      "Requirement already satisfied: marisa-trie in c:\\users\\saisa\\anaconda3\\envs\\torch\\lib\\site-packages (from langcodes->pke==1.8.1) (0.7.5)\n",
      "Requirement already satisfied: urllib3!=1.25.0,!=1.25.1,<1.26,>=1.21.1 in c:\\users\\saisa\\anaconda3\\envs\\torch\\lib\\site-packages (from requests<3.0.0,>=2.13.0->spacy->pke==1.8.1) (1.25.10)\n",
      "Requirement already satisfied: chardet<4,>=3.0.2 in c:\\users\\saisa\\anaconda3\\envs\\torch\\lib\\site-packages (from requests<3.0.0,>=2.13.0->spacy->pke==1.8.1) (3.0.4)\n",
      "Requirement already satisfied: idna<3,>=2.5 in c:\\users\\saisa\\anaconda3\\envs\\torch\\lib\\site-packages (from requests<3.0.0,>=2.13.0->spacy->pke==1.8.1) (2.10)\n",
      "Requirement already satisfied: certifi>=2017.4.17 in c:\\users\\saisa\\anaconda3\\envs\\torch\\lib\\site-packages (from requests<3.0.0,>=2.13.0->spacy->pke==1.8.1) (2020.6.20)\n",
      "Requirement already satisfied: threadpoolctl>=2.0.0 in c:\\users\\saisa\\anaconda3\\envs\\torch\\lib\\site-packages (from scikit-learn->sklearn->pke==1.8.1) (2.1.0)\n",
      "Building wheels for collected packages: pke\n",
      "  Building wheel for pke (setup.py): started\n",
      "  Building wheel for pke (setup.py): finished with status 'done'\n",
      "  Created wheel for pke: filename=pke-1.8.1-py3-none-any.whl size=8761969 sha256=d9643f71db075774ab7d0b30472c6f6a0f11860110c4580dd9c0ce7f1fa0c7e3\n",
      "  Stored in directory: C:\\Users\\saisa\\AppData\\Local\\Temp\\pip-ephem-wheel-cache-6jyiwr5_\\wheels\\06\\41\\79\\d14f376f7c67201afbd158bb1e151392ffc6bffb72b89634fd\n",
      "Successfully built pke\n"
     ]
    }
   ],
   "source": [
    "!pip install git+https://github.com/boudinfl/pke"
   ]
  },
  {
   "cell_type": "code",
   "execution_count": 6,
   "metadata": {},
   "outputs": [],
   "source": [
    "# !pip install ...\\https://github.com/boudinfl/pke\\to\\C:\\Users\\saisa\\AppData\\Local\\Temp\\pip-req-build-6r_uv_3i-git-clone"
   ]
  },
  {
   "cell_type": "code",
   "execution_count": 7,
   "metadata": {},
   "outputs": [
    {
     "name": "stdout",
     "output_type": "stream",
     "text": [
      "Collecting en_core_web_sm==2.1.0"
     ]
    },
    {
     "name": "stderr",
     "output_type": "stream",
     "text": [
      "You do not have sufficient privilege to perform this operation.\n"
     ]
    },
    {
     "name": "stdout",
     "output_type": "stream",
     "text": [
      "\n",
      "  Downloading https://github.com/explosion/spacy-models/releases/download/en_core_web_sm-2.1.0/en_core_web_sm-2.1.0.tar.gz (11.1 MB)\n",
      "Building wheels for collected packages: en-core-web-sm\n",
      "  Building wheel for en-core-web-sm (setup.py): started\n",
      "  Building wheel for en-core-web-sm (setup.py): finished with status 'done'\n",
      "  Created wheel for en-core-web-sm: filename=en_core_web_sm-2.1.0-py3-none-any.whl size=11074438 sha256=9415e92c8ef3e5ffb18a6d717b4b47c3dd967671bf72984c006767051c90eb1b\n",
      "  Stored in directory: C:\\Users\\saisa\\AppData\\Local\\Temp\\pip-ephem-wheel-cache-pqvhv4q8\\wheels\\59\\4f\\8c\\0dbaab09a776d1fa3740e9465078bfd903cc22f3985382b496\n",
      "Successfully built en-core-web-sm\n",
      "Installing collected packages: en-core-web-sm\n",
      "  Attempting uninstall: en-core-web-sm\n",
      "    Found existing installation: en-core-web-sm 2.3.1\n",
      "    Uninstalling en-core-web-sm-2.3.1:\n",
      "      Successfully uninstalled en-core-web-sm-2.3.1\n",
      "Successfully installed en-core-web-sm-2.1.0\n",
      "[+] Download and installation successful\n",
      "You can now load the model via spacy.load('en_core_web_sm')\n",
      "[+] Linking successful\n",
      "C:\\Users\\saisa\\anaconda3\\envs\\torch\\lib\\site-packages\\en_core_web_sm -->\n",
      "C:\\Users\\saisa\\anaconda3\\envs\\torch\\lib\\site-packages\\spacy\\data\\en\n",
      "You can now load the model via spacy.load('en')\n"
     ]
    }
   ],
   "source": [
    "!python -m spacy download en\n"
   ]
  },
  {
   "cell_type": "code",
   "execution_count": 8,
   "metadata": {},
   "outputs": [
    {
     "name": "stdout",
     "output_type": "stream",
     "text": [
      "Processing c:\\users\\saisa\\appdata\\local\\pip\\cache\\wheels\\84\\46\\04\\7fc092936deb2b62c6eb14c1b92d79059ca697be3d423232e1\\bert_extractive_summarizer-0.5.0-py3-none-any.whl\n",
      "Collecting spacy\n",
      "  Using cached spacy-2.3.2-cp37-cp37m-win_amd64.whl (9.3 MB)\n",
      "Collecting scikit-learn\n",
      "  Using cached scikit_learn-0.23.2-cp37-cp37m-win_amd64.whl (6.8 MB)\n",
      "Collecting transformers\n",
      "  Downloading transformers-3.3.1-py3-none-any.whl (1.1 MB)\n",
      "Collecting cymem<2.1.0,>=2.0.2\n",
      "  Using cached cymem-2.0.3-cp37-cp37m-win_amd64.whl (32 kB)\n",
      "Collecting catalogue<1.1.0,>=0.0.7\n",
      "  Using cached catalogue-1.0.0-py2.py3-none-any.whl (7.7 kB)\n",
      "Collecting srsly<1.1.0,>=1.0.2\n",
      "  Using cached srsly-1.0.2-cp37-cp37m-win_amd64.whl (179 kB)\n",
      "Collecting blis<0.5.0,>=0.4.0\n",
      "  Using cached blis-0.4.1-cp37-cp37m-win_amd64.whl (5.0 MB)\n",
      "Collecting tqdm<5.0.0,>=4.38.0\n",
      "  Using cached tqdm-4.50.0-py2.py3-none-any.whl (70 kB)\n",
      "Collecting numpy>=1.15.0\n",
      "  Using cached numpy-1.19.2-cp37-cp37m-win_amd64.whl (12.9 MB)\n",
      "Collecting preshed<3.1.0,>=3.0.2\n",
      "  Using cached preshed-3.0.2-cp37-cp37m-win_amd64.whl (105 kB)\n",
      "Collecting wasabi<1.1.0,>=0.4.0\n",
      "  Using cached wasabi-0.8.0-py3-none-any.whl (23 kB)\n",
      "Collecting requests<3.0.0,>=2.13.0\n",
      "  Using cached requests-2.24.0-py2.py3-none-any.whl (61 kB)\n",
      "Collecting setuptools\n",
      "  Using cached setuptools-50.3.0-py3-none-any.whl (785 kB)\n",
      "Collecting murmurhash<1.1.0,>=0.28.0\n",
      "  Using cached murmurhash-1.0.2-cp37-cp37m-win_amd64.whl (20 kB)\n",
      "Collecting thinc==7.4.1\n",
      "  Using cached thinc-7.4.1-cp37-cp37m-win_amd64.whl (2.0 MB)\n",
      "Collecting plac<1.2.0,>=0.9.6\n",
      "  Using cached plac-1.1.3-py2.py3-none-any.whl (20 kB)\n",
      "Collecting threadpoolctl>=2.0.0\n",
      "  Using cached threadpoolctl-2.1.0-py3-none-any.whl (12 kB)\n",
      "Collecting joblib>=0.11\n",
      "  Using cached joblib-0.16.0-py3-none-any.whl (300 kB)\n",
      "Collecting scipy>=0.19.1\n",
      "  Using cached scipy-1.5.2-cp37-cp37m-win_amd64.whl (31.2 MB)\n",
      "Collecting tokenizers==0.8.1.rc2\n",
      "  Using cached tokenizers-0.8.1rc2-cp37-cp37m-win_amd64.whl (1.9 MB)\n",
      "Processing c:\\users\\saisa\\appdata\\local\\pip\\cache\\wheels\\69\\09\\d1\\bf058f7d6fa0ecba2ce7c66be3b8d012beb4bf61a6e0c101c0\\sacremoses-0.0.43-py3-none-any.whl\n",
      "Collecting packaging\n",
      "  Using cached packaging-20.4-py2.py3-none-any.whl (37 kB)\n",
      "Collecting filelock\n",
      "  Using cached filelock-3.0.12-py3-none-any.whl (7.6 kB)\n",
      "Collecting regex!=2019.12.17\n",
      "  Using cached regex-2020.9.27-cp37-cp37m-win_amd64.whl (268 kB)\n",
      "Collecting sentencepiece!=0.1.92\n",
      "  Using cached sentencepiece-0.1.91-cp37-cp37m-win_amd64.whl (1.2 MB)\n",
      "Collecting importlib-metadata>=0.20; python_version < \"3.8\"\n",
      "  Using cached importlib_metadata-2.0.0-py2.py3-none-any.whl (31 kB)\n",
      "Collecting certifi>=2017.4.17\n",
      "  Using cached certifi-2020.6.20-py2.py3-none-any.whl (156 kB)\n",
      "Collecting chardet<4,>=3.0.2\n",
      "  Using cached chardet-3.0.4-py2.py3-none-any.whl (133 kB)\n",
      "Collecting urllib3!=1.25.0,!=1.25.1,<1.26,>=1.21.1\n",
      "  Using cached urllib3-1.25.10-py2.py3-none-any.whl (127 kB)\n",
      "Collecting idna<3,>=2.5\n",
      "  Using cached idna-2.10-py2.py3-none-any.whl (58 kB)\n",
      "Collecting six\n",
      "  Using cached six-1.15.0-py2.py3-none-any.whl (10 kB)\n",
      "Collecting click\n",
      "  Using cached click-7.1.2-py2.py3-none-any.whl (82 kB)\n",
      "Collecting pyparsing>=2.0.2\n",
      "  Using cached pyparsing-2.4.7-py2.py3-none-any.whl (67 kB)\n",
      "Collecting zipp>=0.5\n",
      "  Using cached zipp-3.2.0-py3-none-any.whl (5.1 kB)\n",
      "Installing collected packages: cymem, zipp, importlib-metadata, catalogue, srsly, numpy, blis, tqdm, murmurhash, preshed, wasabi, certifi, chardet, urllib3, idna, requests, setuptools, plac, thinc, spacy, threadpoolctl, joblib, scipy, scikit-learn, tokenizers, regex, six, click, sacremoses, pyparsing, packaging, filelock, sentencepiece, transformers, bert-extractive-summarizer\n",
      "  Attempting uninstall: cymem\n",
      "    Found existing installation: cymem 2.0.3\n",
      "    Uninstalling cymem-2.0.3:\n",
      "      Successfully uninstalled cymem-2.0.3\n",
      "  Attempting uninstall: zipp\n",
      "    Found existing installation: zipp 3.2.0\n",
      "    Uninstalling zipp-3.2.0:\n",
      "      Successfully uninstalled zipp-3.2.0\n",
      "  Attempting uninstall: importlib-metadata\n",
      "    Found existing installation: importlib-metadata 2.0.0\n",
      "    Uninstalling importlib-metadata-2.0.0:\n",
      "      Successfully uninstalled importlib-metadata-2.0.0\n",
      "  Attempting uninstall: catalogue\n",
      "    Found existing installation: catalogue 1.0.0\n",
      "    Uninstalling catalogue-1.0.0:\n",
      "      Successfully uninstalled catalogue-1.0.0\n",
      "  Attempting uninstall: srsly\n",
      "    Found existing installation: srsly 1.0.2\n",
      "    Uninstalling srsly-1.0.2:\n",
      "      Successfully uninstalled srsly-1.0.2\n",
      "  Attempting uninstall: numpy\n",
      "    Found existing installation: numpy 1.19.2\n",
      "    Uninstalling numpy-1.19.2:\n",
      "      Successfully uninstalled numpy-1.19.2\n",
      "  Attempting uninstall: blis\n",
      "    Found existing installation: blis 0.2.4\n",
      "    Uninstalling blis-0.2.4:\n",
      "      Successfully uninstalled blis-0.2.4\n",
      "  Attempting uninstall: tqdm\n",
      "    Found existing installation: tqdm 4.50.0\n",
      "    Uninstalling tqdm-4.50.0:\n",
      "      Successfully uninstalled tqdm-4.50.0\n",
      "  Attempting uninstall: murmurhash\n",
      "    Found existing installation: murmurhash 1.0.2\n",
      "    Uninstalling murmurhash-1.0.2:\n",
      "      Successfully uninstalled murmurhash-1.0.2\n",
      "  Attempting uninstall: preshed\n",
      "    Found existing installation: preshed 2.0.1\n",
      "    Uninstalling preshed-2.0.1:\n",
      "      Successfully uninstalled preshed-2.0.1\n",
      "  Attempting uninstall: wasabi\n",
      "    Found existing installation: wasabi 0.8.0\n",
      "    Uninstalling wasabi-0.8.0:\n",
      "      Successfully uninstalled wasabi-0.8.0\n",
      "  Attempting uninstall: certifi\n",
      "    Found existing installation: certifi 2020.6.20\n",
      "    Uninstalling certifi-2020.6.20:\n",
      "      Successfully uninstalled certifi-2020.6.20\n",
      "  Attempting uninstall: chardet\n",
      "    Found existing installation: chardet 3.0.4\n",
      "    Uninstalling chardet-3.0.4:\n",
      "      Successfully uninstalled chardet-3.0.4\n",
      "  Attempting uninstall: urllib3\n",
      "    Found existing installation: urllib3 1.25.10\n",
      "    Uninstalling urllib3-1.25.10:\n",
      "      Successfully uninstalled urllib3-1.25.10\n",
      "  Attempting uninstall: idna\n",
      "    Found existing installation: idna 2.10\n",
      "    Uninstalling idna-2.10:\n",
      "      Successfully uninstalled idna-2.10\n",
      "  Attempting uninstall: requests\n",
      "    Found existing installation: requests 2.24.0\n",
      "    Uninstalling requests-2.24.0:"
     ]
    }
   ],
   "source": [
    "!pip install bert-extractive-summarizer --upgrade --force-reinstall"
   ]
  },
  {
   "cell_type": "code",
   "execution_count": 9,
   "metadata": {},
   "outputs": [
    {
     "name": "stdout",
     "output_type": "stream",
     "text": [
      "\n",
      "      Successfully uninstalled requests-2.24.0\n",
      "  Attempting uninstall: setuptools\n",
      "    Found existing installation: setuptools 50.3.0\n",
      "    Uninstalling setuptools-50.3.0:\n",
      "      Successfully uninstalled setuptools-50.3.0\n",
      "  Attempting uninstall: plac\n",
      "    Found existing installation: plac 0.9.6\n",
      "    Uninstalling plac-0.9.6:\n",
      "      Successfully uninstalled plac-0.9.6\n",
      "  Attempting uninstall: thinc\n",
      "    Found existing installation: thinc 7.0.8\n",
      "    Uninstalling thinc-7.0.8:\n",
      "      Successfully uninstalled thinc-7.0.8\n",
      "  Attempting uninstall: spacy\n",
      "    Found existing installation: spacy 2.1.3\n",
      "    Uninstalling spacy-2.1.3:\n",
      "      Successfully uninstalled spacy-2.1.3\n",
      "  Attempting uninstall: threadpoolctl\n",
      "    Found existing installation: threadpoolctl 2.1.0\n",
      "    Uninstalling threadpoolctl-2.1.0:\n",
      "      Successfully uninstalled threadpoolctl-2.1.0\n",
      "  Attempting uninstall: joblib\n",
      "    Found existing installation: joblib 0.16.0\n",
      "    Uninstalling joblib-0.16.0:\n",
      "      Successfully uninstalled joblib-0.16.0\n",
      "  Attempting uninstall: scipy\n",
      "    Found existing installation: scipy 1.5.2\n",
      "    Uninstalling scipy-1.5.2:\n",
      "      Successfully uninstalled scipy-1.5.2\n",
      "  Attempting uninstall: scikit-learn\n",
      "    Found existing installation: scikit-learn 0.23.2\n",
      "    Uninstalling scikit-learn-0.23.2:\n",
      "      Successfully uninstalled scikit-learn-0.23.2\n",
      "  Attempting uninstall: tokenizers\n",
      "    Found existing installation: tokenizers 0.8.1rc2\n",
      "    Uninstalling tokenizers-0.8.1rc2:\n",
      "      Successfully uninstalled tokenizers-0.8.1rc2\n",
      "  Attempting uninstall: regex\n",
      "    Found existing installation: regex 2020.9.27\n",
      "    Uninstalling regex-2020.9.27:\n",
      "      Successfully uninstalled regex-2020.9.27\n",
      "  Attempting uninstall: six\n",
      "    Found existing installation: six 1.15.0\n",
      "    Uninstalling six-1.15.0:\n",
      "      Successfully uninstalled six-1.15.0\n",
      "  Attempting uninstall: click\n",
      "    Found existing installation: click 7.1.2\n",
      "    Uninstalling click-7.1.2:\n",
      "      Successfully uninstalled click-7.1.2\n",
      "  Attempting uninstall: sacremoses\n",
      "    Found existing installation: sacremoses 0.0.43\n",
      "    Uninstalling sacremoses-0.0.43:\n",
      "      Successfully uninstalled sacremoses-0.0.43\n",
      "  Attempting uninstall: pyparsing\n",
      "    Found existing installation: pyparsing 2.4.7\n",
      "    Uninstalling pyparsing-2.4.7:\n",
      "      Successfully uninstalled pyparsing-2.4.7\n",
      "  Attempting uninstall: packaging\n",
      "    Found existing installation: packaging 20.4\n",
      "    Uninstalling packaging-20.4:\n",
      "      Successfully uninstalled packaging-20.4\n",
      "  Attempting uninstall: filelock\n",
      "    Found existing installation: filelock 3.0.12\n",
      "    Uninstalling filelock-3.0.12:\n",
      "      Successfully uninstalled filelock-3.0.12\n",
      "  Attempting uninstall: sentencepiece\n",
      "    Found existing installation: sentencepiece 0.1.91\n",
      "    Uninstalling sentencepiece-0.1.91:\n",
      "      Successfully uninstalled sentencepiece-0.1.91\n",
      "  Attempting uninstall: transformers\n",
      "    Found existing installation: transformers 3.3.0\n",
      "    Uninstalling transformers-3.3.0:\n",
      "      Successfully uninstalled transformers-3.3.0\n",
      "  Attempting uninstall: bert-extractive-summarizer\n",
      "    Found existing installation: bert-extractive-summarizer 0.5.0\n",
      "    Uninstalling bert-extractive-summarizer-0.5.0:\n",
      "      Successfully uninstalled bert-extractive-summarizer-0.5.0\n",
      "Successfully installed bert-extractive-summarizer-0.5.0 blis-0.4.1 catalogue-1.0.0 certifi-2020.6.20 chardet-3.0.4 click-7.1.2 cymem-2.0.3 filelock-3.0.12 idna-2.10 importlib-metadata-2.0.0 joblib-0.16.0 murmurhash-1.0.2 numpy-1.19.2 packaging-20.4 plac-1.1.3 preshed-3.0.2 pyparsing-2.4.7 regex-2020.9.27 requests-2.24.0 sacremoses-0.0.43 scikit-learn-0.23.2 scipy-1.5.2 sentencepiece-0.1.91 setuptools-50.3.0 six-1.15.0 spacy-2.3.2 srsly-1.0.2 thinc-7.4.1 threadpoolctl-2.1.0 tokenizers-0.8.1rc2 tqdm-4.50.0 transformers-3.3.1 urllib3-1.25.10 wasabi-0.8.0 zipp-3.2.0\n",
      "Requirement already satisfied: summa in c:\\users\\saisa\\anaconda3\\envs\\torch\\lib\\site-packages (1.2.0)\n",
      "Requirement already satisfied: scipy>=0.19 in c:\\users\\saisa\\anaconda3\\envs\\torch\\lib\\site-packages (from summa) (1.5.2)Note: you may need to restart the kernel to use updated packages.\n",
      "Requirement already satisfied: numpy>=1.14.5 in c:\\users\\saisa\\anaconda3\\envs\\torch\\lib\\site-packages (from scipy>=0.19->summa) (1.19.2)\n",
      "\n"
     ]
    }
   ],
   "source": [
    "pip install summa"
   ]
  },
  {
   "cell_type": "code",
   "execution_count": 10,
   "metadata": {},
   "outputs": [
    {
     "name": "stderr",
     "output_type": "stream",
     "text": [
      "C:\\Users\\saisa\\anaconda3\\envs\\torch\\lib\\runpy.py:125: RuntimeWarning: 'nltk.downloader' found in sys.modules after import of package 'nltk', but prior to execution of 'nltk.downloader'; this may result in unpredictable behaviour\n",
      "  warn(RuntimeWarning(msg))\n",
      "[nltk_data] Downloading package stopwords to\n",
      "[nltk_data]     C:\\Users\\saisa\\AppData\\Roaming\\nltk_data...\n",
      "[nltk_data]   Package stopwords is already up-to-date!\n"
     ]
    }
   ],
   "source": [
    "!python -m nltk.downloader stopwords\n"
   ]
  },
  {
   "cell_type": "code",
   "execution_count": 11,
   "metadata": {},
   "outputs": [
    {
     "name": "stderr",
     "output_type": "stream",
     "text": [
      "C:\\Users\\saisa\\anaconda3\\envs\\torch\\lib\\runpy.py:125: RuntimeWarning: 'nltk.downloader' found in sys.modules after import of package 'nltk', but prior to execution of 'nltk.downloader'; this may result in unpredictable behaviour\n",
      "  warn(RuntimeWarning(msg))\n",
      "[nltk_data] Downloading package universal_tagset to\n",
      "[nltk_data]     C:\\Users\\saisa\\AppData\\Roaming\\nltk_data...\n",
      "[nltk_data]   Package universal_tagset is already up-to-date!\n"
     ]
    }
   ],
   "source": [
    "!python -m nltk.downloader universal_tagset"
   ]
  },
  {
   "cell_type": "code",
   "execution_count": 12,
   "metadata": {},
   "outputs": [
    {
     "name": "stderr",
     "output_type": "stream",
     "text": [
      "[nltk_data] Downloading package stopwords to\n",
      "[nltk_data]     C:\\Users\\saisa\\AppData\\Roaming\\nltk_data...\n",
      "[nltk_data]   Package stopwords is already up-to-date!\n",
      "[nltk_data] Downloading collection 'popular'\n",
      "[nltk_data]    | \n",
      "[nltk_data]    | Downloading package cmudict to\n",
      "[nltk_data]    |     C:\\Users\\saisa\\AppData\\Roaming\\nltk_data...\n",
      "[nltk_data]    |   Package cmudict is already up-to-date!\n",
      "[nltk_data]    | Downloading package gazetteers to\n",
      "[nltk_data]    |     C:\\Users\\saisa\\AppData\\Roaming\\nltk_data...\n",
      "[nltk_data]    |   Package gazetteers is already up-to-date!\n",
      "[nltk_data]    | Downloading package genesis to\n",
      "[nltk_data]    |     C:\\Users\\saisa\\AppData\\Roaming\\nltk_data...\n",
      "[nltk_data]    |   Package genesis is already up-to-date!\n",
      "[nltk_data]    | Downloading package gutenberg to\n",
      "[nltk_data]    |     C:\\Users\\saisa\\AppData\\Roaming\\nltk_data...\n",
      "[nltk_data]    |   Package gutenberg is already up-to-date!\n",
      "[nltk_data]    | Downloading package inaugural to\n",
      "[nltk_data]    |     C:\\Users\\saisa\\AppData\\Roaming\\nltk_data...\n",
      "[nltk_data]    |   Package inaugural is already up-to-date!\n",
      "[nltk_data]    | Downloading package movie_reviews to\n",
      "[nltk_data]    |     C:\\Users\\saisa\\AppData\\Roaming\\nltk_data...\n",
      "[nltk_data]    |   Package movie_reviews is already up-to-date!\n",
      "[nltk_data]    | Downloading package names to\n",
      "[nltk_data]    |     C:\\Users\\saisa\\AppData\\Roaming\\nltk_data...\n",
      "[nltk_data]    |   Package names is already up-to-date!\n",
      "[nltk_data]    | Downloading package shakespeare to\n",
      "[nltk_data]    |     C:\\Users\\saisa\\AppData\\Roaming\\nltk_data...\n",
      "[nltk_data]    |   Package shakespeare is already up-to-date!\n",
      "[nltk_data]    | Downloading package stopwords to\n",
      "[nltk_data]    |     C:\\Users\\saisa\\AppData\\Roaming\\nltk_data...\n",
      "[nltk_data]    |   Package stopwords is already up-to-date!\n",
      "[nltk_data]    | Downloading package treebank to\n",
      "[nltk_data]    |     C:\\Users\\saisa\\AppData\\Roaming\\nltk_data...\n",
      "[nltk_data]    |   Package treebank is already up-to-date!\n",
      "[nltk_data]    | Downloading package twitter_samples to\n",
      "[nltk_data]    |     C:\\Users\\saisa\\AppData\\Roaming\\nltk_data...\n",
      "[nltk_data]    |   Package twitter_samples is already up-to-date!\n",
      "[nltk_data]    | Downloading package omw to\n",
      "[nltk_data]    |     C:\\Users\\saisa\\AppData\\Roaming\\nltk_data...\n",
      "[nltk_data]    |   Package omw is already up-to-date!\n",
      "[nltk_data]    | Downloading package wordnet to\n",
      "[nltk_data]    |     C:\\Users\\saisa\\AppData\\Roaming\\nltk_data...\n",
      "[nltk_data]    |   Package wordnet is already up-to-date!\n",
      "[nltk_data]    | Downloading package wordnet_ic to\n",
      "[nltk_data]    |     C:\\Users\\saisa\\AppData\\Roaming\\nltk_data...\n",
      "[nltk_data]    |   Package wordnet_ic is already up-to-date!\n",
      "[nltk_data]    | Downloading package words to\n",
      "[nltk_data]    |     C:\\Users\\saisa\\AppData\\Roaming\\nltk_data...\n",
      "[nltk_data]    |   Package words is already up-to-date!\n",
      "[nltk_data]    | Downloading package maxent_ne_chunker to\n",
      "[nltk_data]    |     C:\\Users\\saisa\\AppData\\Roaming\\nltk_data...\n",
      "[nltk_data]    |   Package maxent_ne_chunker is already up-to-date!\n",
      "[nltk_data]    | Downloading package punkt to\n",
      "[nltk_data]    |     C:\\Users\\saisa\\AppData\\Roaming\\nltk_data...\n",
      "[nltk_data]    |   Package punkt is already up-to-date!\n",
      "[nltk_data]    | Downloading package snowball_data to\n",
      "[nltk_data]    |     C:\\Users\\saisa\\AppData\\Roaming\\nltk_data...\n",
      "[nltk_data]    |   Package snowball_data is already up-to-date!\n",
      "[nltk_data]    | Downloading package averaged_perceptron_tagger to\n",
      "[nltk_data]    |     C:\\Users\\saisa\\AppData\\Roaming\\nltk_data...\n",
      "[nltk_data]    |   Package averaged_perceptron_tagger is already up-\n",
      "[nltk_data]    |       to-date!\n",
      "[nltk_data]    | \n",
      "[nltk_data]  Done downloading collection popular\n"
     ]
    },
    {
     "data": {
      "text/plain": [
       "True"
      ]
     },
     "execution_count": 12,
     "metadata": {},
     "output_type": "execute_result"
    }
   ],
   "source": [
    "import nltk\n",
    "nltk.download('stopwords')\n",
    "nltk.download('popular')"
   ]
  },
  {
   "cell_type": "code",
   "execution_count": 119,
   "metadata": {},
   "outputs": [
    {
     "name": "stdout",
     "output_type": "stream",
     "text": [
      "Collecting torchvisionNote: you may need to restart the kernel to use updated packages.\n"
     ]
    },
    {
     "name": "stderr",
     "output_type": "stream",
     "text": [
      "ERROR: Could not find a version that satisfies the requirement torch==1.4.0 (from torchvision) (from versions: 0.1.2, 0.1.2.post1, 0.1.2.post2)\n",
      "ERROR: No matching distribution found for torch==1.4.0 (from torchvision)\n"
     ]
    },
    {
     "name": "stdout",
     "output_type": "stream",
     "text": [
      "\n",
      "  Using cached torchvision-0.5.0-cp37-cp37m-win_amd64.whl (1.2 MB)\n",
      "Requirement already satisfied: six in c:\\users\\saisa\\anaconda3\\envs\\torch\\lib\\site-packages (from torchvision) (1.15.0)\n",
      "Collecting pillow>=4.1.1\n",
      "  Using cached Pillow-7.2.0-cp37-cp37m-win_amd64.whl (2.1 MB)\n",
      "Requirement already satisfied: numpy in c:\\users\\saisa\\anaconda3\\envs\\torch\\lib\\site-packages (from torchvision) (1.19.2)\n"
     ]
    }
   ],
   "source": [
    "pip install torchvision"
   ]
  },
  {
   "cell_type": "code",
   "execution_count": 121,
   "metadata": {},
   "outputs": [],
   "source": [
    "# import torch"
   ]
  },
  {
   "cell_type": "code",
   "execution_count": 122,
   "metadata": {},
   "outputs": [],
   "source": [
    "\n",
    "# from summarizer import Summarizer\n",
    "\n",
    "# f = open(\"mcq_test.txt\",\"r\")\n",
    "# f_text = f.read()\n",
    "\n",
    "# model = Summarizer()\n",
    "# result = model(f_text, min_length=60, max_length = 500 , ratio = 0.4)\n",
    "\n",
    "# summary_text = ''.join(result)\n",
    "# print (summary_text)"
   ]
  },
  {
   "cell_type": "code",
   "execution_count": 123,
   "metadata": {},
   "outputs": [],
   "source": [
    "# from summa.summarizer import summarize\n",
    "\n",
    "# f = open(r\"C:\\Users\\saisa\\Desktop\\mcq_test.txt\",encoding=\"mbcs\")\n",
    "# full_text = f.read()\n",
    "\n",
    "# model = summarize(full_text)\n",
    "# # result = model(full_text, min_length=60, max_length = 500 , ratio = 0.4)\n",
    "\n",
    "# # summarized_text = ''.join(result)\n",
    "# # print (summarized_text)"
   ]
  },
  {
   "cell_type": "code",
   "execution_count": 124,
   "metadata": {},
   "outputs": [],
   "source": [
    "# print(model)"
   ]
  },
  {
   "cell_type": "code",
   "execution_count": 172,
   "metadata": {},
   "outputs": [
    {
     "name": "stdout",
     "output_type": "stream",
     "text": [
      "The Greek historian knew what he was talking aboutThe Nile River fed Egyptian civilization for hundreds of years.\n",
      "Unlike the Tigris and Euphrates, the Nile River flooded at the same time every year, so farmers could predict when to plant their crops.\n",
      "Red Land, Black Land The ancient Egyptians lived in narrow bands of land on each side of the Nile.\n",
      "The parts of Egypt not near the Nile were a desert.\n",
      "Each year, Egyptian farmers watched for white birds called ibises, which flew up from the south.\n",
      "Nubia was the Egyptian name for the area of the upper Nile that had the richest gold mines in Africa.\n",
      "These beautiful blue stones were used in jewelry.The Nile had fish and other wildlife that Egyptians wanted.\n",
      "The Nile provided so well for Egyptians that sometimes they had surpluses, or more goods than they needed.\n",
      "Ancient Egypt had no money, so people exchanged goods that they grew or made.\n",
      "For example, some ancient Egyptians learned to be scribes, people whose job was to write and keep records.\n",
      "As Egyptian civilization grew more complex, people took on jobs other than that of a farmer or scribe.\n",
      "A few Egyptians traveled to the upper Nile to trade with other Africans.\n",
      "Egyptians believed that if the gods were angry, the Nile would not flood.\n",
      "As in many ancient societies, much of the knowledge of Egypt came about as priests studied the world to find ways to please the gods.\n",
      "About 5,000 years ago, they noticed that a star now called Sirius appeared shortly before the Nile began to flood.\n",
      "The Egyptians also developed a paperlike material called papyrus papyrus from a reed of the same name.\n",
      "Historians divide ancient Egyptian dynasties into the Old Kingdom, the Middle Kingdom, and the New Kingdom.\n",
      "The ancient Egyptians thought the pharaoh was a child of the gods and a god himself.\n",
      "Egyptians believed that if the pharaoh and his subjects honored the gods, their lives would be happy.\n",
      "If Egypt suffered hard times for a long period, the people blamed the pharaoh for angering the gods.\n",
      "Because the pharaoh was thought to be a god, government and religion were not separate in ancient Egypt.\n",
      "Farmers did the heavy labor of hauling stone during the season when the Nile flooded their fields.\n",
      "A city called Giza was built for the pyramid workers and the people who fed, clothed, and housed them.\n",
      "Egyptians believed that if a tomb was robbed, the person buried there could not have a happy afterlife.\n",
      "During the New Kingdom, pharaohs began building more secret tombs in an area called the Valley of the Kings.\n",
      "Only a secret tomb built for a New Kingdom pharaoh was ever found with much of its treasure untouched.\n",
      "By about 2130 B.C., Egyptian kings began to lose their power to local rulers of the provinces.\n",
      "This period of Egyptian history is called the Middle Kingdom.\n",
      "After about 100 years, the Egyptians drove out the Hyksos and began the New Kingdom.\n"
     ]
    }
   ],
   "source": [
    "from gensim.summarization import summarize\n",
    "\n",
    "f = open(r\"C:\\Users\\saisa\\Desktop\\mcq_test.txt\",encoding=\"mbcs\")\n",
    "full_text = f.read()\n",
    "\n",
    "model = summarize(full_text, word_count = 500, ratio = 0.2)\n",
    "# result = model(full_text, min_length=60, max_length = 500 , ratio = 0.4)\n",
    "summarized_text = ''.join(model)\n",
    "print (summarized_text)"
   ]
  },
  {
   "cell_type": "code",
   "execution_count": 141,
   "metadata": {},
   "outputs": [],
   "source": [
    "# pip install kleis-keyphrase-extraction"
   ]
  },
  {
   "cell_type": "code",
   "execution_count": 173,
   "metadata": {},
   "outputs": [
    {
     "name": "stdout",
     "output_type": "stream",
     "text": [
      "egyptian\n",
      "egyptians\n",
      "called\n",
      "nile\n",
      "ancient\n",
      "kingdom\n",
      "people exchanged\n",
      "egypt\n",
      "began\n",
      "historian\n",
      "historians\n",
      "years\n",
      "year\n",
      "tomb\n",
      "tombs\n",
      "gold\n",
      "farmers\n",
      "farmer\n",
      "stone\n",
      "blue stones\n",
      "red\n",
      "land\n",
      "river fed\n",
      "appeared\n"
     ]
    }
   ],
   "source": [
    "from gensim.summarization import keywords\n",
    "keywords = keywords(summarized_text)\n",
    "print(keywords)"
   ]
  },
  {
   "cell_type": "code",
   "execution_count": 174,
   "metadata": {},
   "outputs": [],
   "source": [
    "import pprint\n",
    "import json\n",
    "import itertools\n",
    "import re\n",
    "import pke\n",
    "import string\n",
    "from nltk.corpus import stopwords"
   ]
  },
  {
   "cell_type": "code",
   "execution_count": 175,
   "metadata": {},
   "outputs": [],
   "source": [
    "def get_nouns_multipartite(text):\n",
    "    out=[]\n",
    "\n",
    "    extractor = pke.unsupervised.MultipartiteRank()\n",
    "    extractor.load_document(input=text)\n",
    "    #    not contain punctuation marks or stopwords as candidates.\n",
    "    pos = {'PROPN'}\n",
    "    #pos = {'VERB', 'ADJ', 'NOUN'}\n",
    "    stoplist = list(string.punctuation)\n",
    "    stoplist += ['-lrb-', '-rrb-', '-lcb-', '-rcb-', '-lsb-', '-rsb-']\n",
    "    stoplist += stopwords.words('english')\n",
    "    extractor.candidate_selection(pos=pos, stoplist=stoplist)\n",
    "    # 4. build the Multipartite graph and rank candidates using random walk,\n",
    "    #    alpha controls the weight adjustment mechanism, see TopicRank for\n",
    "    #    threshold/method parameters.\n",
    "    extractor.candidate_weighting(alpha=1.1,\n",
    "                                  threshold=0.75,\n",
    "                                  method='average')\n",
    "    keyphrases = extractor.get_n_best(n=20)\n",
    "\n",
    "    for key in keyphrases:\n",
    "        out.append(key[0])\n",
    "\n",
    "    return out\n",
    "\n"
   ]
  },
  {
   "cell_type": "code",
   "execution_count": 176,
   "metadata": {},
   "outputs": [
    {
     "data": {
      "text/plain": [
       "str"
      ]
     },
     "execution_count": 176,
     "metadata": {},
     "output_type": "execute_result"
    }
   ],
   "source": [
    "type(keywords)"
   ]
  },
  {
   "cell_type": "code",
   "execution_count": 177,
   "metadata": {},
   "outputs": [],
   "source": [
    "keywords = keywords.split('\\n')"
   ]
  },
  {
   "cell_type": "code",
   "execution_count": 178,
   "metadata": {},
   "outputs": [
    {
     "data": {
      "text/plain": [
       "['egyptian',\n",
       " 'egyptians',\n",
       " 'called',\n",
       " 'nile',\n",
       " 'ancient',\n",
       " 'kingdom',\n",
       " 'people exchanged',\n",
       " 'egypt',\n",
       " 'began',\n",
       " 'historian',\n",
       " 'historians',\n",
       " 'years',\n",
       " 'year',\n",
       " 'tomb',\n",
       " 'tombs',\n",
       " 'gold',\n",
       " 'farmers',\n",
       " 'farmer',\n",
       " 'stone',\n",
       " 'blue stones',\n",
       " 'red',\n",
       " 'land',\n",
       " 'river fed',\n",
       " 'appeared']"
      ]
     },
     "execution_count": 178,
     "metadata": {},
     "output_type": "execute_result"
    }
   ],
   "source": [
    "keywords"
   ]
  },
  {
   "cell_type": "code",
   "execution_count": 179,
   "metadata": {},
   "outputs": [
    {
     "name": "stdout",
     "output_type": "stream",
     "text": [
      "['egyptian', 'egyptians', 'called', 'nile', 'ancient', 'kingdom', 'people exchanged', 'egypt', 'began', 'historian', 'historians', 'years', 'year', 'tomb', 'tombs', 'gold', 'farmers', 'farmer', 'stone', 'blue stones', 'red', 'land', 'river fed', 'appeared']\n"
     ]
    }
   ],
   "source": [
    "\n",
    "filter_keys=[]\n",
    "for keyword in keywords:\n",
    "#     print(keyword)\n",
    "    if keyword.lower() in summarized_text.lower():\n",
    "        filter_keys.append(keyword)\n",
    "        \n",
    "print (filter_keys)"
   ]
  },
  {
   "cell_type": "code",
   "execution_count": 180,
   "metadata": {},
   "outputs": [],
   "source": [
    "# pip install flashtext"
   ]
  },
  {
   "cell_type": "code",
   "execution_count": 181,
   "metadata": {},
   "outputs": [],
   "source": [
    "\n",
    "from nltk.tokenize import sent_tokenize\n",
    "from flashtext import KeywordProcessor\n",
    "\n",
    "def tokenize_sentences(text):\n",
    "    sentences = [sent_tokenize(text)]\n",
    "    sentences = [y for x in sentences for y in x]\n",
    "    # Remove any short sentences less than 20 letters.\n",
    "    sentences = [sentence.strip() for sentence in sentences if len(sentence) > 20]\n",
    "    return sentences\n",
    "\n",
    "def get_sentences_for_keyword(keywords, sentences):\n",
    "    keyword_processor = KeywordProcessor()\n",
    "    keyword_sentences = {}\n",
    "    for word in keywords:\n",
    "        keyword_sentences[word] = []\n",
    "        keyword_processor.add_keyword(word)\n",
    "    for sentence in sentences:\n",
    "        keywords_found = keyword_processor.extract_keywords(sentence)\n",
    "        for key in keywords_found:\n",
    "            keyword_sentences[key].append(sentence)\n",
    "\n",
    "    for key in keyword_sentences.keys():\n",
    "        values = keyword_sentences[key]\n",
    "        values = sorted(values, key=len, reverse=True)\n",
    "        keyword_sentences[key] = values\n",
    "    return keyword_sentences"
   ]
  },
  {
   "cell_type": "code",
   "execution_count": 182,
   "metadata": {},
   "outputs": [
    {
     "name": "stdout",
     "output_type": "stream",
     "text": [
      "{'egyptian': ['The Greek historian knew what he was talking aboutThe Nile River fed Egyptian civilization for hundreds of years.', 'Historians divide ancient Egyptian dynasties into the Old Kingdom, the Middle Kingdom, and the New Kingdom.', 'As Egyptian civilization grew more complex, people took on jobs other than that of a farmer or scribe.', 'Nubia was the Egyptian name for the area of the upper Nile that had the richest gold mines in Africa.', 'Each year, Egyptian farmers watched for white birds called ibises, which flew up from the south.', 'By about 2130 B.C., Egyptian kings began to lose their power to local rulers of the provinces.', 'This period of Egyptian history is called the Middle Kingdom.'], 'egyptians': ['These beautiful blue stones were used in jewelry.The Nile had fish and other wildlife that Egyptians wanted.', 'The Nile provided so well for Egyptians that sometimes they had surpluses, or more goods than they needed.', 'For example, some ancient Egyptians learned to be scribes, people whose job was to write and keep records.', 'Egyptians believed that if a tomb was robbed, the person buried there could not have a happy afterlife.', 'The Egyptians also developed a paperlike material called papyrus papyrus from a reed of the same name.', 'Egyptians believed that if the pharaoh and his subjects honored the gods, their lives would be happy.', 'Red Land, Black Land The ancient Egyptians lived in narrow bands of land on each side of the Nile.', 'The ancient Egyptians thought the pharaoh was a child of the gods and a god himself.', 'After about 100 years, the Egyptians drove out the Hyksos and began the New Kingdom.', 'Egyptians believed that if the gods were angry, the Nile would not flood.', 'A few Egyptians traveled to the upper Nile to trade with other Africans.'], 'called': ['About 5,000 years ago, they noticed that a star now called Sirius appeared shortly before the Nile began to flood.', 'During the New Kingdom, pharaohs began building more secret tombs in an area called the Valley of the Kings.', 'The Egyptians also developed a paperlike material called papyrus papyrus from a reed of the same name.', 'A city called Giza was built for the pyramid workers and the people who fed, clothed, and housed them.', 'Each year, Egyptian farmers watched for white birds called ibises, which flew up from the south.', 'This period of Egyptian history is called the Middle Kingdom.'], 'nile': ['Unlike the Tigris and Euphrates, the Nile River flooded at the same time every year, so farmers could predict when to plant their crops.', 'About 5,000 years ago, they noticed that a star now called Sirius appeared shortly before the Nile began to flood.', 'The Greek historian knew what he was talking aboutThe Nile River fed Egyptian civilization for hundreds of years.', 'These beautiful blue stones were used in jewelry.The Nile had fish and other wildlife that Egyptians wanted.', 'The Nile provided so well for Egyptians that sometimes they had surpluses, or more goods than they needed.', 'Nubia was the Egyptian name for the area of the upper Nile that had the richest gold mines in Africa.', 'Red Land, Black Land The ancient Egyptians lived in narrow bands of land on each side of the Nile.', 'Farmers did the heavy labor of hauling stone during the season when the Nile flooded their fields.', 'Egyptians believed that if the gods were angry, the Nile would not flood.', 'A few Egyptians traveled to the upper Nile to trade with other Africans.', 'The parts of Egypt not near the Nile were a desert.'], 'ancient': ['As in many ancient societies, much of the knowledge of Egypt came about as priests studied the world to find ways to please the gods.', 'Historians divide ancient Egyptian dynasties into the Old Kingdom, the Middle Kingdom, and the New Kingdom.', 'For example, some ancient Egyptians learned to be scribes, people whose job was to write and keep records.', 'Because the pharaoh was thought to be a god, government and religion were not separate in ancient Egypt.', 'Red Land, Black Land The ancient Egyptians lived in narrow bands of land on each side of the Nile.', 'The ancient Egyptians thought the pharaoh was a child of the gods and a god himself.', 'Ancient Egypt had no money, so people exchanged goods that they grew or made.'], 'kingdom': ['During the New Kingdom, pharaohs began building more secret tombs in an area called the Valley of the Kings.', 'Historians divide ancient Egyptian dynasties into the Old Kingdom, the Middle Kingdom, and the New Kingdom.', 'Historians divide ancient Egyptian dynasties into the Old Kingdom, the Middle Kingdom, and the New Kingdom.', 'Historians divide ancient Egyptian dynasties into the Old Kingdom, the Middle Kingdom, and the New Kingdom.', 'Only a secret tomb built for a New Kingdom pharaoh was ever found with much of its treasure untouched.', 'After about 100 years, the Egyptians drove out the Hyksos and began the New Kingdom.', 'This period of Egyptian history is called the Middle Kingdom.'], 'people exchanged': ['Ancient Egypt had no money, so people exchanged goods that they grew or made.'], 'egypt': ['As in many ancient societies, much of the knowledge of Egypt came about as priests studied the world to find ways to please the gods.', 'Because the pharaoh was thought to be a god, government and religion were not separate in ancient Egypt.', 'If Egypt suffered hard times for a long period, the people blamed the pharaoh for angering the gods.', 'Ancient Egypt had no money, so people exchanged goods that they grew or made.', 'The parts of Egypt not near the Nile were a desert.'], 'began': ['About 5,000 years ago, they noticed that a star now called Sirius appeared shortly before the Nile began to flood.', 'During the New Kingdom, pharaohs began building more secret tombs in an area called the Valley of the Kings.', 'By about 2130 B.C., Egyptian kings began to lose their power to local rulers of the provinces.', 'After about 100 years, the Egyptians drove out the Hyksos and began the New Kingdom.'], 'historian': ['The Greek historian knew what he was talking aboutThe Nile River fed Egyptian civilization for hundreds of years.'], 'historians': ['Historians divide ancient Egyptian dynasties into the Old Kingdom, the Middle Kingdom, and the New Kingdom.'], 'years': ['About 5,000 years ago, they noticed that a star now called Sirius appeared shortly before the Nile began to flood.', 'The Greek historian knew what he was talking aboutThe Nile River fed Egyptian civilization for hundreds of years.', 'After about 100 years, the Egyptians drove out the Hyksos and began the New Kingdom.'], 'year': ['Unlike the Tigris and Euphrates, the Nile River flooded at the same time every year, so farmers could predict when to plant their crops.', 'Each year, Egyptian farmers watched for white birds called ibises, which flew up from the south.'], 'tomb': ['Egyptians believed that if a tomb was robbed, the person buried there could not have a happy afterlife.', 'Only a secret tomb built for a New Kingdom pharaoh was ever found with much of its treasure untouched.'], 'tombs': ['During the New Kingdom, pharaohs began building more secret tombs in an area called the Valley of the Kings.'], 'gold': ['Nubia was the Egyptian name for the area of the upper Nile that had the richest gold mines in Africa.'], 'farmers': ['Unlike the Tigris and Euphrates, the Nile River flooded at the same time every year, so farmers could predict when to plant their crops.', 'Farmers did the heavy labor of hauling stone during the season when the Nile flooded their fields.', 'Each year, Egyptian farmers watched for white birds called ibises, which flew up from the south.'], 'farmer': ['As Egyptian civilization grew more complex, people took on jobs other than that of a farmer or scribe.'], 'stone': ['Farmers did the heavy labor of hauling stone during the season when the Nile flooded their fields.'], 'blue stones': ['These beautiful blue stones were used in jewelry.The Nile had fish and other wildlife that Egyptians wanted.'], 'red': ['Red Land, Black Land The ancient Egyptians lived in narrow bands of land on each side of the Nile.'], 'land': ['Red Land, Black Land The ancient Egyptians lived in narrow bands of land on each side of the Nile.', 'Red Land, Black Land The ancient Egyptians lived in narrow bands of land on each side of the Nile.', 'Red Land, Black Land The ancient Egyptians lived in narrow bands of land on each side of the Nile.'], 'river fed': ['The Greek historian knew what he was talking aboutThe Nile River fed Egyptian civilization for hundreds of years.'], 'appeared': ['About 5,000 years ago, they noticed that a star now called Sirius appeared shortly before the Nile began to flood.']}\n"
     ]
    }
   ],
   "source": [
    "sentences = tokenize_sentences(summarized_text)\n",
    "keyword_sentence_mapping = get_sentences_for_keyword(filter_keys, sentences)\n",
    "        \n",
    "print (keyword_sentence_mapping)"
   ]
  },
  {
   "cell_type": "code",
   "execution_count": 183,
   "metadata": {},
   "outputs": [
    {
     "data": {
      "text/plain": [
       "24"
      ]
     },
     "execution_count": 183,
     "metadata": {},
     "output_type": "execute_result"
    }
   ],
   "source": [
    "len(keyword_sentence_mapping)"
   ]
  },
  {
   "cell_type": "code",
   "execution_count": 184,
   "metadata": {},
   "outputs": [
    {
     "data": {
      "text/plain": [
       "dict"
      ]
     },
     "execution_count": 184,
     "metadata": {},
     "output_type": "execute_result"
    }
   ],
   "source": [
    "type(keyword_sentence_mapping)"
   ]
  },
  {
   "cell_type": "code",
   "execution_count": 169,
   "metadata": {},
   "outputs": [],
   "source": [
    "import requests\n",
    "import json\n",
    "import re\n",
    "import random\n",
    "from pywsd.similarity import max_similarity\n",
    "from pywsd.lesk import adapted_lesk\n",
    "from pywsd.lesk import simple_lesk\n",
    "from pywsd.lesk import cosine_lesk\n",
    "from nltk.corpus import wordnet as wn"
   ]
  },
  {
   "cell_type": "code",
   "execution_count": 24,
   "metadata": {},
   "outputs": [],
   "source": [
    "# Distractors from Wordnet\n",
    "def get_distractors_wordnet(syn,word):\n",
    "    distractors=[]\n",
    "    word= word.lower()\n",
    "    orig_word = word\n",
    "    if len(word.split())>0:\n",
    "        word = word.replace(\" \",\"_\")\n",
    "    hypernym = syn.hypernyms()\n",
    "    if len(hypernym) == 0: \n",
    "        return distractors\n",
    "    for item in hypernym[0].hyponyms():\n",
    "        name = item.lemmas()[0].name()\n",
    "        #print (\"name \",name, \" word\",orig_word)\n",
    "        if name == orig_word:\n",
    "            continue\n",
    "        name = name.replace(\"_\",\" \")\n",
    "        name = \" \".join(w.capitalize() for w in name.split())\n",
    "        if name is not None and name not in distractors:\n",
    "            distractors.append(name)\n",
    "    return distractors"
   ]
  },
  {
   "cell_type": "code",
   "execution_count": 25,
   "metadata": {},
   "outputs": [],
   "source": [
    "def get_wordsense(sent,word):\n",
    "    word= word.lower()\n",
    "    \n",
    "    if len(word.split())>0:\n",
    "        word = word.replace(\" \",\"_\")\n",
    "    \n",
    "    \n",
    "    synsets = wn.synsets(word,'n')\n",
    "    if synsets:\n",
    "        wup = max_similarity(sent, word, 'wup', pos='n')\n",
    "        adapted_lesk_output =  adapted_lesk(sent, word, pos='n')\n",
    "        lowest_index = min (synsets.index(wup),synsets.index(adapted_lesk_output))\n",
    "        return synsets[lowest_index]\n",
    "    else:\n",
    "        return None"
   ]
  },
  {
   "cell_type": "code",
   "execution_count": 26,
   "metadata": {},
   "outputs": [],
   "source": [
    "# Distractors from http://conceptnet.io/\n",
    "def get_distractors_conceptnet(word):\n",
    "    word = word.lower()\n",
    "    original_word= word\n",
    "    if (len(word.split())>0):\n",
    "        word = word.replace(\" \",\"_\")\n",
    "    distractor_list = [] \n",
    "    url = \"http://api.conceptnet.io/query?node=/c/en/%s/n&rel=/r/PartOf&start=/c/en/%s&limit=5\"%(word,word)\n",
    "    obj = requests.get(url).json()\n",
    "\n",
    "    for edge in obj['edges']:\n",
    "        link = edge['end']['term'] \n",
    "\n",
    "        url2 = \"http://api.conceptnet.io/query?node=%s&rel=/r/PartOf&end=%s&limit=10\"%(link,link)\n",
    "        obj2 = requests.get(url2).json()\n",
    "        for edge in obj2['edges']:\n",
    "            word2 = edge['start']['label']\n",
    "            if word2 not in distractor_list and original_word.lower() not in word2.lower():\n",
    "                distractor_list.append(word2)\n",
    "                   \n",
    "    return distractor_list"
   ]
  },
  {
   "cell_type": "code",
   "execution_count": 185,
   "metadata": {},
   "outputs": [
    {
     "name": "stdout",
     "output_type": "stream",
     "text": [
      "['The Greek historian knew what he was talking aboutThe Nile River fed Egyptian civilization for hundreds of years.', 'Historians divide ancient Egyptian dynasties into the Old Kingdom, the Middle Kingdom, and the New Kingdom.', 'As Egyptian civilization grew more complex, people took on jobs other than that of a farmer or scribe.', 'Nubia was the Egyptian name for the area of the upper Nile that had the richest gold mines in Africa.', 'Each year, Egyptian farmers watched for white birds called ibises, which flew up from the south.', 'By about 2130 B.C., Egyptian kings began to lose their power to local rulers of the provinces.', 'This period of Egyptian history is called the Middle Kingdom.'] egyptian\n",
      "['These beautiful blue stones were used in jewelry.The Nile had fish and other wildlife that Egyptians wanted.', 'The Nile provided so well for Egyptians that sometimes they had surpluses, or more goods than they needed.', 'For example, some ancient Egyptians learned to be scribes, people whose job was to write and keep records.', 'Egyptians believed that if a tomb was robbed, the person buried there could not have a happy afterlife.', 'The Egyptians also developed a paperlike material called papyrus papyrus from a reed of the same name.', 'Egyptians believed that if the pharaoh and his subjects honored the gods, their lives would be happy.', 'Red Land, Black Land The ancient Egyptians lived in narrow bands of land on each side of the Nile.', 'The ancient Egyptians thought the pharaoh was a child of the gods and a god himself.', 'After about 100 years, the Egyptians drove out the Hyksos and began the New Kingdom.', 'Egyptians believed that if the gods were angry, the Nile would not flood.', 'A few Egyptians traveled to the upper Nile to trade with other Africans.'] egyptians\n",
      "['About 5,000 years ago, they noticed that a star now called Sirius appeared shortly before the Nile began to flood.', 'During the New Kingdom, pharaohs began building more secret tombs in an area called the Valley of the Kings.', 'The Egyptians also developed a paperlike material called papyrus papyrus from a reed of the same name.', 'A city called Giza was built for the pyramid workers and the people who fed, clothed, and housed them.', 'Each year, Egyptian farmers watched for white birds called ibises, which flew up from the south.', 'This period of Egyptian history is called the Middle Kingdom.'] called\n",
      "['Unlike the Tigris and Euphrates, the Nile River flooded at the same time every year, so farmers could predict when to plant their crops.', 'About 5,000 years ago, they noticed that a star now called Sirius appeared shortly before the Nile began to flood.', 'The Greek historian knew what he was talking aboutThe Nile River fed Egyptian civilization for hundreds of years.', 'These beautiful blue stones were used in jewelry.The Nile had fish and other wildlife that Egyptians wanted.', 'The Nile provided so well for Egyptians that sometimes they had surpluses, or more goods than they needed.', 'Nubia was the Egyptian name for the area of the upper Nile that had the richest gold mines in Africa.', 'Red Land, Black Land The ancient Egyptians lived in narrow bands of land on each side of the Nile.', 'Farmers did the heavy labor of hauling stone during the season when the Nile flooded their fields.', 'Egyptians believed that if the gods were angry, the Nile would not flood.', 'A few Egyptians traveled to the upper Nile to trade with other Africans.', 'The parts of Egypt not near the Nile were a desert.'] nile\n",
      "['As in many ancient societies, much of the knowledge of Egypt came about as priests studied the world to find ways to please the gods.', 'Historians divide ancient Egyptian dynasties into the Old Kingdom, the Middle Kingdom, and the New Kingdom.', 'For example, some ancient Egyptians learned to be scribes, people whose job was to write and keep records.', 'Because the pharaoh was thought to be a god, government and religion were not separate in ancient Egypt.', 'Red Land, Black Land The ancient Egyptians lived in narrow bands of land on each side of the Nile.', 'The ancient Egyptians thought the pharaoh was a child of the gods and a god himself.', 'Ancient Egypt had no money, so people exchanged goods that they grew or made.'] ancient\n",
      "['During the New Kingdom, pharaohs began building more secret tombs in an area called the Valley of the Kings.', 'Historians divide ancient Egyptian dynasties into the Old Kingdom, the Middle Kingdom, and the New Kingdom.', 'Historians divide ancient Egyptian dynasties into the Old Kingdom, the Middle Kingdom, and the New Kingdom.', 'Historians divide ancient Egyptian dynasties into the Old Kingdom, the Middle Kingdom, and the New Kingdom.', 'Only a secret tomb built for a New Kingdom pharaoh was ever found with much of its treasure untouched.', 'After about 100 years, the Egyptians drove out the Hyksos and began the New Kingdom.', 'This period of Egyptian history is called the Middle Kingdom.'] kingdom\n",
      "['Ancient Egypt had no money, so people exchanged goods that they grew or made.'] people exchanged\n",
      "['As in many ancient societies, much of the knowledge of Egypt came about as priests studied the world to find ways to please the gods.', 'Because the pharaoh was thought to be a god, government and religion were not separate in ancient Egypt.', 'If Egypt suffered hard times for a long period, the people blamed the pharaoh for angering the gods.', 'Ancient Egypt had no money, so people exchanged goods that they grew or made.', 'The parts of Egypt not near the Nile were a desert.'] egypt\n",
      "['About 5,000 years ago, they noticed that a star now called Sirius appeared shortly before the Nile began to flood.', 'During the New Kingdom, pharaohs began building more secret tombs in an area called the Valley of the Kings.', 'By about 2130 B.C., Egyptian kings began to lose their power to local rulers of the provinces.', 'After about 100 years, the Egyptians drove out the Hyksos and began the New Kingdom.'] began\n",
      "['The Greek historian knew what he was talking aboutThe Nile River fed Egyptian civilization for hundreds of years.'] historian\n",
      "['Historians divide ancient Egyptian dynasties into the Old Kingdom, the Middle Kingdom, and the New Kingdom.'] historians\n",
      "['About 5,000 years ago, they noticed that a star now called Sirius appeared shortly before the Nile began to flood.', 'The Greek historian knew what he was talking aboutThe Nile River fed Egyptian civilization for hundreds of years.', 'After about 100 years, the Egyptians drove out the Hyksos and began the New Kingdom.'] years\n",
      "['Unlike the Tigris and Euphrates, the Nile River flooded at the same time every year, so farmers could predict when to plant their crops.', 'Each year, Egyptian farmers watched for white birds called ibises, which flew up from the south.'] year\n",
      "['Egyptians believed that if a tomb was robbed, the person buried there could not have a happy afterlife.', 'Only a secret tomb built for a New Kingdom pharaoh was ever found with much of its treasure untouched.'] tomb\n",
      "['During the New Kingdom, pharaohs began building more secret tombs in an area called the Valley of the Kings.'] tombs\n",
      "['Nubia was the Egyptian name for the area of the upper Nile that had the richest gold mines in Africa.'] gold\n",
      "['Unlike the Tigris and Euphrates, the Nile River flooded at the same time every year, so farmers could predict when to plant their crops.', 'Farmers did the heavy labor of hauling stone during the season when the Nile flooded their fields.', 'Each year, Egyptian farmers watched for white birds called ibises, which flew up from the south.'] farmers\n",
      "['As Egyptian civilization grew more complex, people took on jobs other than that of a farmer or scribe.'] farmer\n",
      "['Farmers did the heavy labor of hauling stone during the season when the Nile flooded their fields.'] stone\n",
      "['These beautiful blue stones were used in jewelry.The Nile had fish and other wildlife that Egyptians wanted.'] blue stones\n",
      "['Red Land, Black Land The ancient Egyptians lived in narrow bands of land on each side of the Nile.'] red\n",
      "['Red Land, Black Land The ancient Egyptians lived in narrow bands of land on each side of the Nile.', 'Red Land, Black Land The ancient Egyptians lived in narrow bands of land on each side of the Nile.', 'Red Land, Black Land The ancient Egyptians lived in narrow bands of land on each side of the Nile.'] land\n",
      "['The Greek historian knew what he was talking aboutThe Nile River fed Egyptian civilization for hundreds of years.'] river fed\n",
      "['About 5,000 years ago, they noticed that a star now called Sirius appeared shortly before the Nile began to flood.'] appeared\n"
     ]
    }
   ],
   "source": [
    "for keyword in keyword_sentence_mapping:\n",
    "    print(keyword_sentence_mapping[keyword],keyword)"
   ]
  },
  {
   "cell_type": "code",
   "execution_count": 186,
   "metadata": {},
   "outputs": [
    {
     "name": "stdout",
     "output_type": "stream",
     "text": [
      "#############################################################################\n",
      "NOTE::::::::  Since the algorithm might have errors along the way, wrong answer choices generated might not be correct for some questions. \n",
      "#############################################################################\n",
      "\n",
      "\n",
      "1) The Greek historian knew what he was talking aboutThe Nile River fed  _______  civilization for hundreds of years.\n",
      "\t a )   Algerian\n",
      "\t b )   Angolan\n",
      "\t c )   Bantu\n",
      "\t d )   Egyptian\n",
      "\n",
      "More options:  ['Basotho', 'Beninese', 'Berber', 'Black African', 'Burundian', 'Cameroonian', 'Carthaginian', 'Chadian', 'Chewa', 'Congolese', 'Djiboutian', 'Egyptian', 'Ethiopian', 'Eurafrican', 'Ewe', 'Fulani'] \n",
      "\n",
      "\n",
      "2) These beautiful blue stones were used in jewelry.The Nile had fish and other wildlife that  _______  wanted.\n",
      "\t a )   Bantu\n",
      "\t b )   Algerian\n",
      "\t c )   Angolan\n",
      "\t d )   Egyptians\n",
      "\n",
      "More options:  ['Basotho', 'Beninese', 'Berber', 'Black African', 'Burundian', 'Cameroonian', 'Carthaginian', 'Chadian', 'Chewa', 'Congolese', 'Djiboutian', 'Egyptian', 'Ethiopian', 'Eurafrican', 'Ewe', 'Fulani'] \n",
      "\n",
      "\n",
      "3) Unlike the Tigris and Euphrates, the  _______  River flooded at the same time every year, so farmers could predict when to plant their crops.\n",
      "\t a )   Nile\n",
      "\t b )   Entebbe\n",
      "\t c )   Gulu\n",
      "\t d )   Buganda\n",
      "\n",
      "More options:  ['Jinja', 'Lake Edward', 'kayunga', 'gulu', 'entebbe', 'Port Sudan', 'Omdurman', 'Darfur', 'Libyan Desert', 'Kordofan', 'Khartoum', 'Nubian Desert', 'Nyala', 'Aswan High Dam', 'Eastern Desert', 'Aswan'] \n",
      "\n",
      "\n",
      "4) As in many  _______  societies, much of the knowledge of Egypt came about as priests studied the world to find ways to please the gods.\n",
      "\t a )   Abator\n",
      "\t b )   Abjurer\n",
      "\t c )   Ancient\n",
      "\t d )   Abomination\n",
      "\n",
      "More options:  ['Abstainer', 'Achiever', 'Acquaintance', 'Acquirer', 'Active', 'Actor', 'Adjudicator', 'Admirer', 'Adoptee', 'Adult', 'Adventurer', 'Adversary', 'Advisee', 'Advocate', 'Affiant', 'African'] \n",
      "\n",
      "\n",
      "5) During the New  _______ , pharaohs began building more secret tombs in an area called the Valley of the Kings.\n",
      "\t a )   Archduchy\n",
      "\t b )   Kingdom\n",
      "\t c )   Barony\n",
      "\t d )   Duchy\n",
      "\n",
      "More options:  ['Earldom', 'Emirate', 'Empire', 'Fiefdom', 'Grand Duchy', 'Khanate', 'Principality', 'Sheikdom', 'Suzerainty', 'Viscounty'] \n",
      "\n",
      "\n",
      "6) As in many ancient societies, much of the knowledge of  _______  came about as priests studied the world to find ways to please the gods.\n",
      "\t a )   Kuwait\n",
      "\t b )   Iraq\n",
      "\t c )   Egypt\n",
      "\t d )   Saudi Arabia\n",
      "\n",
      "More options:  ['Jordan', 'Israel', 'Fertile Crescent', 'Turkey', 'Iran', 'Lebanon', 'Shari', 'Mauritania', 'Nigeria', 'Somali peninsula', 'Sierra Leone', 'Malawi', 'North Africa', 'Senegal', 'Mozambique', 'Lake Tanganyika'] \n",
      "\n",
      "\n",
      "7) The Greek  _______  knew what he was talking aboutThe Nile River fed Egyptian civilization for hundreds of years.\n",
      "\t a )   Arabist\n",
      "\t b )   Alumnus\n",
      "\t c )   Historian\n",
      "\t d )   Academician\n",
      "\n",
      "More options:  ['Bibliographer', 'Bibliophile', 'Cabalist', 'Doctor', 'Goliard', 'Humanist', 'Initiate', 'Islamist', 'Licentiate', 'Masorete', 'Master', 'Mujtihad', 'Musicologist', 'Pedant', 'Philomath', 'Philosopher'] \n",
      "\n",
      "\n",
      "8)  _______  divide ancient Egyptian dynasties into the Old Kingdom, the Middle Kingdom, and the New Kingdom.\n",
      "\t a )   Academician\n",
      "\t b )   Arabist\n",
      "\t c )   Alumnus\n",
      "\t d )   Historians\n",
      "\n",
      "More options:  ['Bibliographer', 'Bibliophile', 'Cabalist', 'Doctor', 'Goliard', 'Historian', 'Humanist', 'Initiate', 'Islamist', 'Licentiate', 'Masorete', 'Master', 'Mujtihad', 'Musicologist', 'Pedant', 'Philomath'] \n",
      "\n",
      "\n",
      "9) About 5,000  _______  ago, they noticed that a star now called Sirius appeared shortly before the Nile began to flood.\n",
      "\t a )   Years\n",
      "\t b )   Air Alert\n",
      "\t c )   Bimillennium\n",
      "\t d )   Bimester\n",
      "\n",
      "More options:  ['Bout', 'Bronze Age', 'Calendar Day', 'Calendar Month', 'Century', 'Clotting Time', 'Dawn', 'Day', 'Decade', 'Dog Days', 'Downtime', 'Drought', 'Duration', 'Elapsed Time', 'Enlistment', 'Era'] \n",
      "\n",
      "\n",
      "10) Unlike the Tigris and Euphrates, the Nile River flooded at the same time every  _______ , so farmers could predict when to plant their crops.\n",
      "\t a )   Year\n",
      "\t b )   Air Alert\n",
      "\t c )   Bimillennium\n",
      "\t d )   Bimester\n",
      "\n",
      "More options:  ['Bout', 'Bronze Age', 'Calendar Day', 'Calendar Month', 'Century', 'Clotting Time', 'Dawn', 'Day', 'Decade', 'Dog Days', 'Downtime', 'Drought', 'Duration', 'Elapsed Time', 'Enlistment', 'Era'] \n",
      "\n",
      "\n",
      "11) Egyptians believed that if a  _______  was robbed, the person buried there could not have a happy afterlife.\n",
      "\t a )   Grave\n",
      "\t b )   End\n",
      "\t c )   Birthplace\n",
      "\t d )   Tomb\n",
      "\n",
      "More options:  ['Hiding Place', 'High', 'Hole-in-the-wall', 'Holy Place', 'Junction', 'Mecca', 'Nesting Place', 'Overlook', 'Peak', 'Polling Place', 'Pool', 'Rendezvous', 'Scour', 'Service Area', 'Showplace', 'Solitude'] \n",
      "\n",
      "\n",
      "12) During the New Kingdom, pharaohs began building more secret  _______  in an area called the Valley of the Kings.\n",
      "\t a )   End\n",
      "\t b )   Grave\n",
      "\t c )   Tombs\n",
      "\t d )   Birthplace\n",
      "\n",
      "More options:  ['Hiding Place', 'High', 'Hole-in-the-wall', 'Holy Place', 'Junction', 'Mecca', 'Nesting Place', 'Overlook', 'Peak', 'Polling Place', 'Pool', 'Rendezvous', 'Scour', 'Service Area', 'Showplace', 'Solitude'] \n",
      "\n",
      "\n",
      "13) Nubia was the Egyptian name for the area of the upper Nile that had the richest  _______  mines in Africa.\n",
      "\t a )   Gold\n",
      "\t b )   Silver\n",
      "\t c )   Platinum\n",
      "\n",
      "More options:  [] \n",
      "\n",
      "\n",
      "14) Unlike the Tigris and Euphrates, the Nile River flooded at the same time every year, so  _______  could predict when to plant their crops.\n",
      "\t a )   Architect\n",
      "\t b )   Farmers\n",
      "\t c )   Builder\n",
      "\t d )   Artist\n",
      "\n",
      "More options:  ['Choreographer', 'Couturier', 'Craftsman', 'Developer', 'Fantasist', 'Farmer', 'Inventor', 'Maker', 'Modeler', 'Originator', 'Producer'] \n",
      "\n",
      "\n",
      "15) As Egyptian civilization grew more complex, people took on jobs other than that of a  _______  or scribe.\n",
      "\t a )   Artist\n",
      "\t b )   Builder\n",
      "\t c )   Farmer\n",
      "\t d )   Architect\n",
      "\n",
      "More options:  ['Choreographer', 'Couturier', 'Craftsman', 'Developer', 'Fantasist', 'Inventor', 'Maker', 'Modeler', 'Originator', 'Producer'] \n",
      "\n",
      "\n",
      "16) Farmers did the heavy labor of hauling  _______  during the season when the Nile flooded their fields.\n",
      "\t a )   Building Block\n",
      "\t b )   Bricks And Mortar\n",
      "\t c )   Brick\n",
      "\t d )   Stone\n",
      "\n",
      "More options:  ['Cement', 'Concrete', 'Covering Material', 'Fencing Material', 'Flooring', 'Gunite', 'Insulating Material', 'Lath And Plaster', 'Lumber', 'Mortar', 'Roofing Material', 'Shingle', 'Siding', 'Staff', 'Sticks And Stone', 'Wattle And Daub'] \n",
      "\n",
      "\n",
      "17) These beautiful  _______  were used in jewelry.The Nile had fish and other wildlife that Egyptians wanted.\n",
      "\t a )   Blue stones\n",
      "\t b )   Blue Vitriol\n",
      "\n",
      "More options:  [] \n",
      "\n",
      "\n",
      "18)  _______  Land, Black Land The ancient Egyptians lived in narrow bands of land on each side of the Nile.\n",
      "\t a )   Muskogee\n",
      "\t b )   Canadian\n",
      "\t c )   Red\n",
      "\t d )   McAlester\n",
      "\n",
      "More options:  ['Platt National Park', 'Enid', 'Tulsa', 'Oklahoma City', 'Cimarron', 'Llano Estacado', 'Monroe', 'Shreveport', 'Lafayette', 'Baton Rouge', 'Morgan City', 'Ouachita', 'New Orleans', 'Alexandria', 'ark la tex', 'Austin'] \n",
      "\n",
      "\n",
      "19) Red  _______ , Black  _______  The ancient Egyptians lived in narrow bands of  _______  on each side of the Nile.\n",
      "\t a )   Land\n",
      "\t b )   Baffled\n",
      "\t c )   Age Group\n",
      "\t d )   Ancients\n",
      "\n",
      "More options:  ['Blind', 'Blood', 'Brave', 'Business People', 'Chosen People', 'Class', 'Clientele', 'Coevals', 'Damned', 'Dead', 'Deaf', 'Defeated', 'Disabled', 'Doomed', 'Enemy', 'Episcopacy'] \n",
      "\n",
      "\n"
     ]
    }
   ],
   "source": [
    "key_distractor_list = {}\n",
    "\n",
    "for keyword in keyword_sentence_mapping:\n",
    "    wordsense = get_wordsense(keyword_sentence_mapping[keyword][0],keyword)\n",
    "    if wordsense:\n",
    "        distractors = get_distractors_wordnet(wordsense,keyword)\n",
    "        if len(distractors) ==0:\n",
    "            distractors = get_distractors_conceptnet(keyword)\n",
    "        if len(distractors) != 0:\n",
    "            key_distractor_list[keyword] = distractors\n",
    "    else:\n",
    "        \n",
    "        distractors = get_distractors_conceptnet(keyword)\n",
    "        if len(distractors) != 0:\n",
    "            key_distractor_list[keyword] = distractors\n",
    "\n",
    "index = 1\n",
    "print (\"#############################################################################\")\n",
    "print (\"NOTE::::::::  Since the algorithm might have errors along the way, wrong answer choices generated might not be correct for some questions. \")\n",
    "print (\"#############################################################################\\n\\n\")\n",
    "for each in key_distractor_list:\n",
    "    sentence = keyword_sentence_mapping[each][0]\n",
    "    pattern = re.compile(each, re.IGNORECASE)\n",
    "    output = pattern.sub( \" _______ \", sentence)\n",
    "    print (\"%s)\"%(index),output)\n",
    "    choices = [each.capitalize()] + key_distractor_list[each]\n",
    "    top4choices = choices[:4]\n",
    "    random.shuffle(top4choices)\n",
    "    optionchoices = ['a','b','c','d']\n",
    "    for idx,choice in enumerate(top4choices):\n",
    "        print (\"\\t\",optionchoices[idx],\")\",\" \",choice)\n",
    "    print (\"\\nMore options: \", choices[4:20],\"\\n\\n\")\n",
    "    index = index + 1"
   ]
  },
  {
   "cell_type": "code",
   "execution_count": null,
   "metadata": {},
   "outputs": [],
   "source": []
  },
  {
   "cell_type": "code",
   "execution_count": 99,
   "metadata": {},
   "outputs": [],
   "source": [
    "# for keyword in keyword_sentence_mapping:\n",
    "#     print((keyword_sentence_mapping['a'][0],'a'))"
   ]
  },
  {
   "cell_type": "code",
   "execution_count": null,
   "metadata": {},
   "outputs": [],
   "source": []
  }
 ],
 "metadata": {
  "kernelspec": {
   "display_name": "Python 3",
   "language": "python",
   "name": "python3"
  },
  "language_info": {
   "codemirror_mode": {
    "name": "ipython",
    "version": 3
   },
   "file_extension": ".py",
   "mimetype": "text/x-python",
   "name": "python",
   "nbconvert_exporter": "python",
   "pygments_lexer": "ipython3",
   "version": "3.7.7"
  }
 },
 "nbformat": 4,
 "nbformat_minor": 4
}
